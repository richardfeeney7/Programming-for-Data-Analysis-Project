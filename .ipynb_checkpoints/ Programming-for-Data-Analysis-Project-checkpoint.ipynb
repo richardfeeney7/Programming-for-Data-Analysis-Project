{
 "cells": [
  {
   "cell_type": "markdown",
   "metadata": {},
   "source": [
    "For this project we are asked to create a data set by simulating a real-world phenomenon of my choosing. Considering that this is part of a college course I have decided that I will I will complete this project based on students and obtaining results. \n",
    "\n",
    "The variables that I will use are : \n",
    "    * Gender\n",
    "    * Study Method (Campus or online)\n",
    "    * Score\n",
    "    * Exam or Project only based\n",
    "    * Average time spend studying"
   ]
  },
  {
   "cell_type": "code",
   "execution_count": 1,
   "metadata": {},
   "outputs": [],
   "source": [
    "# Libaries that will be used\n",
    "\n",
    "import seaborn as sns\n",
    "import pandas as pd\n",
    "import numpy as np\n",
    "import matplotlib.pyplot as plt\n",
    "import random"
   ]
  },
  {
   "cell_type": "markdown",
   "metadata": {},
   "source": [
    "# Variable 1\n",
    "In this section I will generate an array of 200 numbers that will either be 0 that represents Male or 1 that represents Female. A random number generation is deterministic which means that it is not truly random, each time the cell is executed it will generate a new set of numbers. To stop this from happening I have set a seed so that the next time a call is made to the same seed it will generate the same result.\n",
    "\n",
    "Once the array is completed I will generate a histogram to display the overall distribution. I have set the bin size to 2 and we can see that this particular array has more Males than Females. "
   ]
  },
  {
   "cell_type": "code",
   "execution_count": 9,
   "metadata": {},
   "outputs": [
    {
     "data": {
      "image/png": "[encoded data removed]",
      "text/plain": [
       "<Figure size 360x360 with 1 Axes>"
      ]
     },
     "metadata": {
      "needs_background": "light"
     },
     "output_type": "display_data"
    }
   ],
   "source": [
    "# 0 = Male\n",
    "# 1 = Female\n",
    "\n",
    "# Generate 200 numbers to represent male(0) and female(1)\n",
    "np.random.seed(1234567) # Set the random seed so the numbers will stay the same each time the cell is executed\n",
    "gender=np.random.randint(0,2, size=200)\n",
    "#print(gender)\n",
    "\n",
    "\n",
    "# Histogram: Plot a histogram of gender\n",
    "plt.hist(gender, bins=3) # Generate based on gender and set bins to 3\n",
    "plt.rcParams[\"figure.figsize\"] = (5,5) # Set graph size \n",
    "plt.xlabel(\"Male = 0 , Female = 1\", fontsize=15) # X label Size\n",
    "plt.ylabel(\"Frequecny\", fontsize=15) # Y label size\n",
    "plt.title('Histogram', fontsize=30) # Title and Size\n",
    "plt.show() # Show Histogram"
   ]
  },
  {
   "cell_type": "code",
   "execution_count": null,
   "metadata": {},
   "outputs": [],
   "source": []
  },
  {
   "cell_type": "code",
   "execution_count": null,
   "metadata": {},
   "outputs": [],
   "source": []
  }
 ],
 "metadata": {
  "kernelspec": {
   "display_name": "Python 3",
   "language": "python",
   "name": "python3"
  },
  "language_info": {
   "codemirror_mode": {
    "name": "ipython",
    "version": 3
   },
   "file_extension": ".py",
   "mimetype": "text/x-python",
   "name": "python",
   "nbconvert_exporter": "python",
   "pygments_lexer": "ipython3",
   "version": "3.7.5"
  }
 },
 "nbformat": 4,
 "nbformat_minor": 2
}
